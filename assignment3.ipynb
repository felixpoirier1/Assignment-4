{
 "cells": [
  {
   "cell_type": "markdown",
   "id": "539233ca-9a59-4069-a511-8b44e6564e17",
   "metadata": {},
   "source": [
    "# <span style=\"color:blue\"> **Assignment 2: Multivariate Linear Regression**</span>"
   ]
  },
  {
   "cell_type": "markdown",
   "id": "dfd13f17-c1e2-4cc5-bc8d-c90fc6800dbc",
   "metadata": {},
   "source": [
    "## <span style=\"color:blue\"> **Modules & Packages**</span>"
   ]
  },
  {
   "cell_type": "code",
   "execution_count": 1,
   "id": "f36f9380-9cf4-4546-8bb0-d268a5e22159",
   "metadata": {},
   "outputs": [],
   "source": [
    "# Pandas: To manipulate DataFrames\n",
    "import pandas as pd\n",
    "# Seaborn & Matplotlib: Data Visualization\n",
    "import seaborn as sns\n",
    "import matplotlib.pyplot as plt\n",
    "# Statsmodels: To estimate our regression model and perform heteroskedatsicity tests\n",
    "import statsmodels.api as sm\n",
    "import statsmodels.formula.api as smf\n",
    "import statsmodels.tools.tools as smt\n",
    "import statsmodels.stats.diagnostic as smd\n",
    "# Numpy: For mathematical computations\n",
    "import numpy as np"
   ]
  },
  {
   "cell_type": "markdown",
   "id": "9a2e29a5-944a-4669-84ff-e4038374ea2d",
   "metadata": {
    "tags": []
   },
   "source": [
    "## <span style=\"color:blue\"> **The Dataset**</span>"
   ]
  },
  {
   "cell_type": "code",
   "execution_count": 2,
   "id": "d2fc9489-7f3e-415b-9600-07c2d68f7f31",
   "metadata": {},
   "outputs": [],
   "source": [
    "# Creation of the DataFrame from multiple tables stored in an Excel file\n",
    "sheet = [\"Y variable\", \"x1-market\", \"x2-value\", \"x3-small\"]\n",
    "sets = []\n",
    "\n",
    "data_dict = {}\n",
    "for title in sheet:\n",
    "    data_dict[title] = pd.DataFrame(pd.read_excel(\"TP2-Dataset.xlsx\", skiprows = range(6), sheet_name=title).iloc[:]['PX_LAST'])\n",
    "    data_dict[title][title] = np.log(data_dict[title]['PX_LAST']/data_dict[title]['PX_LAST'].shift(1))\n",
    "    del data_dict[title]['PX_LAST']\n",
    "    data_dict[title] = data_dict[title].dropna()\n",
    "    sets += [data_dict[title]]\n",
    "\n",
    "df = pd.concat(sets, axis = 1)"
   ]
  },
  {
   "cell_type": "code",
   "execution_count": 3,
   "id": "2c418a08-8772-41cb-908a-898c75372376",
   "metadata": {},
   "outputs": [],
   "source": [
    "name = ['Tech', 'Market', 'Value', 'Size']\n",
    "\n",
    "ren = {sheet[i]: name for i, name in enumerate(name)}\n",
    "df = df.rename(columns=ren)"
   ]
  },
  {
   "cell_type": "code",
   "execution_count": 4,
   "id": "897c9765-2452-4b54-93fc-94de0ebad1d0",
   "metadata": {},
   "outputs": [
    {
     "data": {
      "text/html": [
       "<div>\n",
       "<style scoped>\n",
       "    .dataframe tbody tr th:only-of-type {\n",
       "        vertical-align: middle;\n",
       "    }\n",
       "\n",
       "    .dataframe tbody tr th {\n",
       "        vertical-align: top;\n",
       "    }\n",
       "\n",
       "    .dataframe thead th {\n",
       "        text-align: right;\n",
       "    }\n",
       "</style>\n",
       "<table border=\"1\" class=\"dataframe\">\n",
       "  <thead>\n",
       "    <tr style=\"text-align: right;\">\n",
       "      <th></th>\n",
       "      <th>Tech</th>\n",
       "      <th>Market</th>\n",
       "      <th>Value</th>\n",
       "      <th>Size</th>\n",
       "    </tr>\n",
       "  </thead>\n",
       "  <tbody>\n",
       "    <tr>\n",
       "      <th>1</th>\n",
       "      <td>-0.000670</td>\n",
       "      <td>0.001535</td>\n",
       "      <td>-0.004323</td>\n",
       "      <td>-0.030943</td>\n",
       "    </tr>\n",
       "    <tr>\n",
       "      <th>2</th>\n",
       "      <td>0.042322</td>\n",
       "      <td>0.056173</td>\n",
       "      <td>0.057936</td>\n",
       "      <td>0.078705</td>\n",
       "    </tr>\n",
       "    <tr>\n",
       "      <th>3</th>\n",
       "      <td>0.044298</td>\n",
       "      <td>0.018519</td>\n",
       "      <td>0.018075</td>\n",
       "      <td>0.031858</td>\n",
       "    </tr>\n",
       "    <tr>\n",
       "      <th>4</th>\n",
       "      <td>-0.053658</td>\n",
       "      <td>-0.025634</td>\n",
       "      <td>-0.024067</td>\n",
       "      <td>-0.019319</td>\n",
       "    </tr>\n",
       "    <tr>\n",
       "      <th>5</th>\n",
       "      <td>0.040666</td>\n",
       "      <td>0.029738</td>\n",
       "      <td>0.035735</td>\n",
       "      <td>0.035507</td>\n",
       "    </tr>\n",
       "  </tbody>\n",
       "</table>\n",
       "</div>"
      ],
      "text/plain": [
       "       Tech    Market     Value      Size\n",
       "1 -0.000670  0.001535 -0.004323 -0.030943\n",
       "2  0.042322  0.056173  0.057936  0.078705\n",
       "3  0.044298  0.018519  0.018075  0.031858\n",
       "4 -0.053658 -0.025634 -0.024067 -0.019319\n",
       "5  0.040666  0.029738  0.035735  0.035507"
      ]
     },
     "execution_count": 4,
     "metadata": {},
     "output_type": "execute_result"
    }
   ],
   "source": [
    "df.head()"
   ]
  },
  {
   "cell_type": "code",
   "execution_count": 5,
   "id": "87b9ae11-7c17-4443-9f49-4dd113fa682c",
   "metadata": {},
   "outputs": [
    {
     "data": {
      "text/html": [
       "<div>\n",
       "<style scoped>\n",
       "    .dataframe tbody tr th:only-of-type {\n",
       "        vertical-align: middle;\n",
       "    }\n",
       "\n",
       "    .dataframe tbody tr th {\n",
       "        vertical-align: top;\n",
       "    }\n",
       "\n",
       "    .dataframe thead th {\n",
       "        text-align: right;\n",
       "    }\n",
       "</style>\n",
       "<table border=\"1\" class=\"dataframe\">\n",
       "  <thead>\n",
       "    <tr style=\"text-align: right;\">\n",
       "      <th></th>\n",
       "      <th>Tech</th>\n",
       "      <th>Market</th>\n",
       "      <th>Value</th>\n",
       "      <th>Size</th>\n",
       "    </tr>\n",
       "  </thead>\n",
       "  <tbody>\n",
       "    <tr>\n",
       "      <th>count</th>\n",
       "      <td>517.000000</td>\n",
       "      <td>517.000000</td>\n",
       "      <td>517.000000</td>\n",
       "      <td>517.000000</td>\n",
       "    </tr>\n",
       "    <tr>\n",
       "      <th>mean</th>\n",
       "      <td>-0.003133</td>\n",
       "      <td>-0.000783</td>\n",
       "      <td>-0.000799</td>\n",
       "      <td>-0.000167</td>\n",
       "    </tr>\n",
       "    <tr>\n",
       "      <th>std</th>\n",
       "      <td>0.031860</td>\n",
       "      <td>0.019804</td>\n",
       "      <td>0.022181</td>\n",
       "      <td>0.027590</td>\n",
       "    </tr>\n",
       "    <tr>\n",
       "      <th>min</th>\n",
       "      <td>-0.151192</td>\n",
       "      <td>-0.090930</td>\n",
       "      <td>-0.095603</td>\n",
       "      <td>-0.134211</td>\n",
       "    </tr>\n",
       "    <tr>\n",
       "      <th>25%</th>\n",
       "      <td>-0.021413</td>\n",
       "      <td>-0.011619</td>\n",
       "      <td>-0.012017</td>\n",
       "      <td>-0.014185</td>\n",
       "    </tr>\n",
       "    <tr>\n",
       "      <th>50%</th>\n",
       "      <td>-0.004975</td>\n",
       "      <td>-0.002268</td>\n",
       "      <td>-0.001781</td>\n",
       "      <td>-0.002370</td>\n",
       "    </tr>\n",
       "    <tr>\n",
       "      <th>75%</th>\n",
       "      <td>0.013590</td>\n",
       "      <td>0.007087</td>\n",
       "      <td>0.007886</td>\n",
       "      <td>0.012890</td>\n",
       "    </tr>\n",
       "    <tr>\n",
       "      <th>max</th>\n",
       "      <td>0.140315</td>\n",
       "      <td>0.165685</td>\n",
       "      <td>0.211631</td>\n",
       "      <td>0.264327</td>\n",
       "    </tr>\n",
       "  </tbody>\n",
       "</table>\n",
       "</div>"
      ],
      "text/plain": [
       "             Tech      Market       Value        Size\n",
       "count  517.000000  517.000000  517.000000  517.000000\n",
       "mean    -0.003133   -0.000783   -0.000799   -0.000167\n",
       "std      0.031860    0.019804    0.022181    0.027590\n",
       "min     -0.151192   -0.090930   -0.095603   -0.134211\n",
       "25%     -0.021413   -0.011619   -0.012017   -0.014185\n",
       "50%     -0.004975   -0.002268   -0.001781   -0.002370\n",
       "75%      0.013590    0.007087    0.007886    0.012890\n",
       "max      0.140315    0.165685    0.211631    0.264327"
      ]
     },
     "execution_count": 5,
     "metadata": {},
     "output_type": "execute_result"
    }
   ],
   "source": [
    "df.describe()"
   ]
  },
  {
   "cell_type": "markdown",
   "id": "16e2ac63-a37e-47bf-99ba-dbc0667fc568",
   "metadata": {},
   "source": [
    "## <span style=\"color:blue\"> **Multivariate OLS Regression (Non Robust)**</span>"
   ]
  },
  {
   "cell_type": "code",
   "execution_count": 6,
   "id": "1c8c3281-049a-421f-8213-f538f032464c",
   "metadata": {},
   "outputs": [
    {
     "name": "stdout",
     "output_type": "stream",
     "text": [
      "                            OLS Regression Results                            \n",
      "==============================================================================\n",
      "Dep. Variable:                   Tech   R-squared:                       0.499\n",
      "Model:                            OLS   Adj. R-squared:                  0.496\n",
      "Method:                 Least Squares   F-statistic:                     170.1\n",
      "Date:                Thu, 24 Nov 2022   Prob (F-statistic):           1.56e-76\n",
      "Time:                        12:45:41   Log-Likelihood:                 1227.2\n",
      "No. Observations:                 517   AIC:                            -2446.\n",
      "Df Residuals:                     513   BIC:                            -2429.\n",
      "Df Model:                           3                                         \n",
      "Covariance Type:            nonrobust                                         \n",
      "==============================================================================\n",
      "                 coef    std err          t      P>|t|      [0.025      0.975]\n",
      "------------------------------------------------------------------------------\n",
      "const         -0.0022      0.001     -2.247      0.025      -0.004      -0.000\n",
      "Market         2.8998      0.166     17.423      0.000       2.573       3.227\n",
      "Value         -1.6893      0.131    -12.932      0.000      -1.946      -1.433\n",
      "Size          -0.1698      0.072     -2.352      0.019      -0.312      -0.028\n",
      "==============================================================================\n",
      "Omnibus:                       12.445   Durbin-Watson:                   2.194\n",
      "Prob(Omnibus):                  0.002   Jarque-Bera (JB):               23.633\n",
      "Skew:                          -0.007   Prob(JB):                     7.38e-06\n",
      "Kurtosis:                       4.047   Cond. No.                         204.\n",
      "==============================================================================\n",
      "\n",
      "Notes:\n",
      "[1] Standard Errors assume that the covariance matrix of the errors is correctly specified.\n"
     ]
    }
   ],
   "source": [
    "# Define dependant (y) and independent (x) variables\n",
    "y = df[name[0]]\n",
    "x = df[name[1:]]\n",
    "\n",
    "# Add a constant to the predictor variable (intercept)\n",
    "x = sm.add_constant(x)\n",
    "\n",
    "# Fit the OLS model to the sample data\n",
    "model_ols = sm.OLS(y, x).fit()\n",
    "\n",
    "# View model summary (intercept, coefficient, r-squared)\n",
    "print(model_ols.summary())"
   ]
  },
  {
   "cell_type": "code",
   "execution_count": 7,
   "id": "2accbf32-5218-40fe-a174-c636123cf66b",
   "metadata": {},
   "outputs": [],
   "source": [
    "# Save coefficients to variables\n",
    "constant = model_ols.params[0]\n",
    "market, value, size = model_ols.params[1], model_ols.params[2], model_ols.params[3]"
   ]
  },
  {
   "cell_type": "markdown",
   "id": "533f738e-7722-4882-9d1d-b4701fe01974",
   "metadata": {},
   "source": [
    "## <span style=\"color:blue\"> **Functional Forms**</span>"
   ]
  },
  {
   "cell_type": "code",
   "execution_count": 8,
   "id": "814ea6a6-3d38-4df8-bfcd-d8b2d9357d6d",
   "metadata": {},
   "outputs": [
    {
     "data": {
      "text/plain": [
       "Text(0, 0.5, 'Tech')"
      ]
     },
     "execution_count": 8,
     "metadata": {},
     "output_type": "execute_result"
    },
    {
     "data": {
      "image/png": "[encoded data removed]",
      "text/plain": [
       "<Figure size 432x288 with 3 Axes>"
      ]
     },
     "metadata": {
      "needs_background": "light"
     },
     "output_type": "display_data"
    }
   ],
   "source": [
    "# Plot 3 scatter plots to analyze the shape of the indivdual relationships between \"Tech\" and each explanatory variable\n",
    "plt.rcParams[\"figure.figsize\"] = (25,5)\n",
    "\n",
    "# Tech vs. Market\n",
    "plt.subplot(1, 3, 1)\n",
    "sns.regplot(x = df.Market, y = df.Tech, ci = None)\n",
    "plt.title(\"Tech vs. Market\")\n",
    "plt.xlabel(\"Market\")\n",
    "plt.ylabel(\"Tech\")\n",
    "\n",
    "# Tech vs. Value\n",
    "plt.subplot(1, 3, 2)\n",
    "sns.regplot(x = df.Value, y = df.Tech, ci = None)\n",
    "plt.title(\"Tech vs. Value\")\n",
    "plt.xlabel(\"Value\")\n",
    "plt.ylabel(\"Tech\")\n",
    "\n",
    "# Tech vs. Size\n",
    "plt.subplot(1, 3, 3)\n",
    "sns.regplot(x = df.Size, y = df.Tech, ci = None)\n",
    "plt.title(\"Tech vs. Size\")\n",
    "plt.xlabel(\"Size\")\n",
    "plt.ylabel(\"Tech\")"
   ]
  },
  {
   "cell_type": "markdown",
   "id": "90c94a06-17e1-4e38-88c3-2e672b1f2b0f",
   "metadata": {},
   "source": [
    "### <span style=\"color:blue\"> **1. Interaction between Market and Size**</span>\n",
    "The first functional form we'll be exploring will include an interaction term between Market and Size. More concretely, here is the equation describing the functional form of interest:\n",
    "\n",
    "$$ {Tech_{i}} = {\\beta}_{0} + {\\beta}_{1}(Market_{i}) + {\\beta}_{2}(Value_{i}) + {\\beta}_{3}(Size_{i}) + {\\beta}_{4}(Market_{i}*Size_{i}) + {u}_{i} $$"
   ]
  },
  {
   "cell_type": "code",
   "execution_count": 9,
   "id": "53a00993-b732-41da-b32a-94d91a3d78cd",
   "metadata": {},
   "outputs": [
    {
     "data": {
      "text/html": [
       "<div>\n",
       "<style scoped>\n",
       "    .dataframe tbody tr th:only-of-type {\n",
       "        vertical-align: middle;\n",
       "    }\n",
       "\n",
       "    .dataframe tbody tr th {\n",
       "        vertical-align: top;\n",
       "    }\n",
       "\n",
       "    .dataframe thead th {\n",
       "        text-align: right;\n",
       "    }\n",
       "</style>\n",
       "<table border=\"1\" class=\"dataframe\">\n",
       "  <thead>\n",
       "    <tr style=\"text-align: right;\">\n",
       "      <th></th>\n",
       "      <th>Tech</th>\n",
       "      <th>Market</th>\n",
       "      <th>Value</th>\n",
       "      <th>Size</th>\n",
       "      <th>MarketSize</th>\n",
       "    </tr>\n",
       "  </thead>\n",
       "  <tbody>\n",
       "    <tr>\n",
       "      <th>1</th>\n",
       "      <td>-0.000670</td>\n",
       "      <td>0.001535</td>\n",
       "      <td>-0.004323</td>\n",
       "      <td>-0.030943</td>\n",
       "      <td>-0.000048</td>\n",
       "    </tr>\n",
       "    <tr>\n",
       "      <th>2</th>\n",
       "      <td>0.042322</td>\n",
       "      <td>0.056173</td>\n",
       "      <td>0.057936</td>\n",
       "      <td>0.078705</td>\n",
       "      <td>0.004421</td>\n",
       "    </tr>\n",
       "    <tr>\n",
       "      <th>3</th>\n",
       "      <td>0.044298</td>\n",
       "      <td>0.018519</td>\n",
       "      <td>0.018075</td>\n",
       "      <td>0.031858</td>\n",
       "      <td>0.000590</td>\n",
       "    </tr>\n",
       "    <tr>\n",
       "      <th>4</th>\n",
       "      <td>-0.053658</td>\n",
       "      <td>-0.025634</td>\n",
       "      <td>-0.024067</td>\n",
       "      <td>-0.019319</td>\n",
       "      <td>0.000495</td>\n",
       "    </tr>\n",
       "    <tr>\n",
       "      <th>5</th>\n",
       "      <td>0.040666</td>\n",
       "      <td>0.029738</td>\n",
       "      <td>0.035735</td>\n",
       "      <td>0.035507</td>\n",
       "      <td>0.001056</td>\n",
       "    </tr>\n",
       "  </tbody>\n",
       "</table>\n",
       "</div>"
      ],
      "text/plain": [
       "       Tech    Market     Value      Size  MarketSize\n",
       "1 -0.000670  0.001535 -0.004323 -0.030943   -0.000048\n",
       "2  0.042322  0.056173  0.057936  0.078705    0.004421\n",
       "3  0.044298  0.018519  0.018075  0.031858    0.000590\n",
       "4 -0.053658 -0.025634 -0.024067 -0.019319    0.000495\n",
       "5  0.040666  0.029738  0.035735  0.035507    0.001056"
      ]
     },
     "execution_count": 9,
     "metadata": {},
     "output_type": "execute_result"
    }
   ],
   "source": [
    "# Estimate the model with a Market * Size interaction term\n",
    "\n",
    "# Add interaction term to the DataFrame\n",
    "df_1 = df.copy()\n",
    "df_1[\"MarketSize\"] = df_1.Market * df_1.Size\n",
    "df_1.head()"
   ]
  },
  {
   "cell_type": "code",
   "execution_count": 10,
   "id": "0224e71c-0ec0-4aaa-bf1f-7b2fe043004c",
   "metadata": {},
   "outputs": [
    {
     "name": "stdout",
     "output_type": "stream",
     "text": [
      "                            OLS Regression Results                            \n",
      "==============================================================================\n",
      "Dep. Variable:                   Tech   R-squared:                       0.499\n",
      "Model:                            OLS   Adj. R-squared:                  0.495\n",
      "Method:                 Least Squares   F-statistic:                     127.4\n",
      "Date:                Thu, 24 Nov 2022   Prob (F-statistic):           1.94e-75\n",
      "Time:                        12:45:45   Log-Likelihood:                 1227.3\n",
      "No. Observations:                 517   AIC:                            -2445.\n",
      "Df Residuals:                     512   BIC:                            -2423.\n",
      "Df Model:                           4                                         \n",
      "Covariance Type:            nonrobust                                         \n",
      "==============================================================================\n",
      "                 coef    std err          t      P>|t|      [0.025      0.975]\n",
      "------------------------------------------------------------------------------\n",
      "const         -0.0024      0.001     -2.302      0.022      -0.004      -0.000\n",
      "Market         2.9010      0.167     17.415      0.000       2.574       3.228\n",
      "Value         -1.6968      0.132    -12.898      0.000      -1.955      -1.438\n",
      "Size          -0.1755      0.073     -2.401      0.017      -0.319      -0.032\n",
      "MarketSize     0.2489      0.488      0.510      0.610      -0.709       1.207\n",
      "==============================================================================\n",
      "Omnibus:                       13.257   Durbin-Watson:                   2.191\n",
      "Prob(Omnibus):                  0.001   Jarque-Bera (JB):               25.799\n",
      "Skew:                          -0.035   Prob(JB):                     2.50e-06\n",
      "Kurtosis:                       4.092   Cond. No.                         490.\n",
      "==============================================================================\n",
      "\n",
      "Notes:\n",
      "[1] Standard Errors assume that the covariance matrix of the errors is correctly specified.\n"
     ]
    }
   ],
   "source": [
    "# Define dependant (y) and independent (x) variables\n",
    "y_1 = df_1[name[0]]\n",
    "x_1 = df_1[[\"Market\", \"Value\", \"Size\", \"MarketSize\"]]\n",
    "\n",
    "# Add a constant to the predictor variable (intercept)\n",
    "x_1 = sm.add_constant(x_1)\n",
    "\n",
    "# Fit the OLS model to the sample data\n",
    "model_int_1 = sm.OLS(y_1, x_1).fit()\n",
    "\n",
    "# View model summary (intercept, coefficient, r-squared)\n",
    "print(model_int_1.summary())"
   ]
  },
  {
   "cell_type": "markdown",
   "id": "f640bcbf-7516-4288-9dc6-1ae5dacce59a",
   "metadata": {
    "tags": []
   },
   "source": [
    "### <span style=\"color:blue\"> **2. Interaction between Market and Value**</span>\n",
    "The second functional form we'll be exploring will include an interaction term between Market and Value. More concretely, here is the equation describing the functional form of interest:\n",
    "\n",
    "$$ {Tech_{i}} = {\\beta}_{0} + {\\beta}_{1}(Market_{i}) + {\\beta}_{2}(Value_{i}) + {\\beta}_{3}(Size_{i}) + {\\beta}_{4}(Market_{i}*Value_{i}) + {u}_{i} $$"
   ]
  },
  {
   "cell_type": "code",
   "execution_count": 11,
   "id": "cffe2a10-80ca-4b0d-85d7-36ed129a9156",
   "metadata": {},
   "outputs": [
    {
     "data": {
      "text/html": [
       "<div>\n",
       "<style scoped>\n",
       "    .dataframe tbody tr th:only-of-type {\n",
       "        vertical-align: middle;\n",
       "    }\n",
       "\n",
       "    .dataframe tbody tr th {\n",
       "        vertical-align: top;\n",
       "    }\n",
       "\n",
       "    .dataframe thead th {\n",
       "        text-align: right;\n",
       "    }\n",
       "</style>\n",
       "<table border=\"1\" class=\"dataframe\">\n",
       "  <thead>\n",
       "    <tr style=\"text-align: right;\">\n",
       "      <th></th>\n",
       "      <th>Tech</th>\n",
       "      <th>Market</th>\n",
       "      <th>Value</th>\n",
       "      <th>Size</th>\n",
       "      <th>MarketValue</th>\n",
       "    </tr>\n",
       "  </thead>\n",
       "  <tbody>\n",
       "    <tr>\n",
       "      <th>1</th>\n",
       "      <td>-0.000670</td>\n",
       "      <td>0.001535</td>\n",
       "      <td>-0.004323</td>\n",
       "      <td>-0.030943</td>\n",
       "      <td>-0.000007</td>\n",
       "    </tr>\n",
       "    <tr>\n",
       "      <th>2</th>\n",
       "      <td>0.042322</td>\n",
       "      <td>0.056173</td>\n",
       "      <td>0.057936</td>\n",
       "      <td>0.078705</td>\n",
       "      <td>0.003254</td>\n",
       "    </tr>\n",
       "    <tr>\n",
       "      <th>3</th>\n",
       "      <td>0.044298</td>\n",
       "      <td>0.018519</td>\n",
       "      <td>0.018075</td>\n",
       "      <td>0.031858</td>\n",
       "      <td>0.000335</td>\n",
       "    </tr>\n",
       "    <tr>\n",
       "      <th>4</th>\n",
       "      <td>-0.053658</td>\n",
       "      <td>-0.025634</td>\n",
       "      <td>-0.024067</td>\n",
       "      <td>-0.019319</td>\n",
       "      <td>0.000617</td>\n",
       "    </tr>\n",
       "    <tr>\n",
       "      <th>5</th>\n",
       "      <td>0.040666</td>\n",
       "      <td>0.029738</td>\n",
       "      <td>0.035735</td>\n",
       "      <td>0.035507</td>\n",
       "      <td>0.001063</td>\n",
       "    </tr>\n",
       "  </tbody>\n",
       "</table>\n",
       "</div>"
      ],
      "text/plain": [
       "       Tech    Market     Value      Size  MarketValue\n",
       "1 -0.000670  0.001535 -0.004323 -0.030943    -0.000007\n",
       "2  0.042322  0.056173  0.057936  0.078705     0.003254\n",
       "3  0.044298  0.018519  0.018075  0.031858     0.000335\n",
       "4 -0.053658 -0.025634 -0.024067 -0.019319     0.000617\n",
       "5  0.040666  0.029738  0.035735  0.035507     0.001063"
      ]
     },
     "execution_count": 11,
     "metadata": {},
     "output_type": "execute_result"
    }
   ],
   "source": [
    "# Estimate the model with a Market * Value interaction term\n",
    "\n",
    "# Add interaction term to the DataFrame\n",
    "df_2 = df.copy()\n",
    "df_2[\"MarketValue\"] = df_2.Market * df_2.Value\n",
    "df_2.head()"
   ]
  },
  {
   "cell_type": "code",
   "execution_count": 12,
   "id": "58cafa09-4795-4ac1-aab5-3bd5d37554f5",
   "metadata": {},
   "outputs": [
    {
     "name": "stdout",
     "output_type": "stream",
     "text": [
      "                            OLS Regression Results                            \n",
      "==============================================================================\n",
      "Dep. Variable:                   Tech   R-squared:                       0.499\n",
      "Model:                            OLS   Adj. R-squared:                  0.495\n",
      "Method:                 Least Squares   F-statistic:                     127.6\n",
      "Date:                Thu, 24 Nov 2022   Prob (F-statistic):           1.62e-75\n",
      "Time:                        12:45:46   Log-Likelihood:                 1227.5\n",
      "No. Observations:                 517   AIC:                            -2445.\n",
      "Df Residuals:                     512   BIC:                            -2424.\n",
      "Df Model:                           4                                         \n",
      "Covariance Type:            nonrobust                                         \n",
      "===============================================================================\n",
      "                  coef    std err          t      P>|t|      [0.025      0.975]\n",
      "-------------------------------------------------------------------------------\n",
      "const          -0.0025      0.001     -2.374      0.018      -0.004      -0.000\n",
      "Market          2.9003      0.167     17.419      0.000       2.573       3.227\n",
      "Value          -1.6993      0.131    -12.943      0.000      -1.957      -1.441\n",
      "Size           -0.1790      0.073     -2.447      0.015      -0.323      -0.035\n",
      "MarketValue     0.4849      0.614      0.789      0.430      -0.722       1.691\n",
      "==============================================================================\n",
      "Omnibus:                       13.804   Durbin-Watson:                   2.189\n",
      "Prob(Omnibus):                  0.001   Jarque-Bera (JB):               27.261\n",
      "Skew:                          -0.047   Prob(JB):                     1.20e-06\n",
      "Kurtosis:                       4.121   Cond. No.                         617.\n",
      "==============================================================================\n",
      "\n",
      "Notes:\n",
      "[1] Standard Errors assume that the covariance matrix of the errors is correctly specified.\n"
     ]
    }
   ],
   "source": [
    "# Define dependant (y) and independent (x) variables\n",
    "y_2 = df_2[name[0]]\n",
    "x_2 = df_2[[\"Market\", \"Value\", \"Size\", \"MarketValue\"]]\n",
    "\n",
    "# Add a constant to the predictor variable (intercept)\n",
    "x_2 = sm.add_constant(x_2)\n",
    "\n",
    "# Fit the OLS model to the sample data\n",
    "model_int_2 = sm.OLS(y_2, x_2).fit()\n",
    "\n",
    "# View model summary (intercept, coefficient, r-squared)\n",
    "print(model_int_2.summary())"
   ]
  },
  {
   "cell_type": "markdown",
   "id": "21d54d65-8f67-46a1-8a31-7288fe22eba7",
   "metadata": {
    "tags": []
   },
   "source": [
    "## <span style=\"color:blue\"> **Multivariate OLS Regression (Robust)**</span>"
   ]
  },
  {
   "cell_type": "code",
   "execution_count": 13,
   "id": "049e4bf8-d67f-4b0b-8b63-79e056e79701",
   "metadata": {},
   "outputs": [
    {
     "name": "stdout",
     "output_type": "stream",
     "text": [
      "                    Robust linear Model Regression Results                    \n",
      "==============================================================================\n",
      "Dep. Variable:                   Tech   No. Observations:                  517\n",
      "Model:                            RLM   Df Residuals:                      512\n",
      "Method:                          IRLS   Df Model:                            4\n",
      "Norm:                          HuberT                                         \n",
      "Scale Est.:                       mad                                         \n",
      "Cov Type:                          H1                                         \n",
      "Date:                Thu, 24 Nov 2022                                         \n",
      "Time:                        12:45:47                                         \n",
      "No. Iterations:                    22                                         \n",
      "===============================================================================\n",
      "                  coef    std err          z      P>|z|      [0.025      0.975]\n",
      "-------------------------------------------------------------------------------\n",
      "const          -0.0027      0.001     -2.834      0.005      -0.005      -0.001\n",
      "Market          2.9946      0.154     19.494      0.000       2.693       3.296\n",
      "Value          -1.7676      0.121    -14.592      0.000      -2.005      -1.530\n",
      "Size           -0.1896      0.067     -2.810      0.005      -0.322      -0.057\n",
      "MarketValue     1.3437      0.567      2.371      0.018       0.233       2.454\n",
      "===============================================================================\n",
      "\n",
      "If the model instance has been used for another fit with different fit parameters, then the fit options might not be the correct ones anymore .\n"
     ]
    }
   ],
   "source": [
    "# Statsmodels' RLM function can be used to perform a robust linear regression. The particular method we'll be using is Peter Huber's approach for\n",
    "# computing heteroskedastic-robust standard errors\n",
    "ols_robust = sm.RLM(y_2, x_2, M = sm.robust.norms.HuberT()).fit()\n",
    "print(ols_robust.summary())"
   ]
  },
  {
   "cell_type": "markdown",
   "id": "6fde7294-7b76-4ba5-99bc-9f036ae9c690",
   "metadata": {},
   "source": [
    "## <span style=\"color:blue\"> **Heteroskedasticity Tests**</span>"
   ]
  },
  {
   "cell_type": "code",
   "execution_count": 14,
   "id": "11eff539-68e9-423b-bb10-6aee065dcd1b",
   "metadata": {},
   "outputs": [
    {
     "data": {
      "text/html": [
       "<div>\n",
       "<style scoped>\n",
       "    .dataframe tbody tr th:only-of-type {\n",
       "        vertical-align: middle;\n",
       "    }\n",
       "\n",
       "    .dataframe tbody tr th {\n",
       "        vertical-align: top;\n",
       "    }\n",
       "\n",
       "    .dataframe thead th {\n",
       "        text-align: right;\n",
       "    }\n",
       "</style>\n",
       "<table border=\"1\" class=\"dataframe\">\n",
       "  <thead>\n",
       "    <tr style=\"text-align: right;\">\n",
       "      <th></th>\n",
       "      <th>const</th>\n",
       "      <th>Market</th>\n",
       "      <th>Value</th>\n",
       "      <th>Size</th>\n",
       "      <th>MarketValue</th>\n",
       "    </tr>\n",
       "  </thead>\n",
       "  <tbody>\n",
       "    <tr>\n",
       "      <th>1</th>\n",
       "      <td>1.0</td>\n",
       "      <td>0.001535</td>\n",
       "      <td>-0.004323</td>\n",
       "      <td>-0.030943</td>\n",
       "      <td>-0.000007</td>\n",
       "    </tr>\n",
       "    <tr>\n",
       "      <th>2</th>\n",
       "      <td>1.0</td>\n",
       "      <td>0.056173</td>\n",
       "      <td>0.057936</td>\n",
       "      <td>0.078705</td>\n",
       "      <td>0.003254</td>\n",
       "    </tr>\n",
       "    <tr>\n",
       "      <th>3</th>\n",
       "      <td>1.0</td>\n",
       "      <td>0.018519</td>\n",
       "      <td>0.018075</td>\n",
       "      <td>0.031858</td>\n",
       "      <td>0.000335</td>\n",
       "    </tr>\n",
       "    <tr>\n",
       "      <th>4</th>\n",
       "      <td>1.0</td>\n",
       "      <td>-0.025634</td>\n",
       "      <td>-0.024067</td>\n",
       "      <td>-0.019319</td>\n",
       "      <td>0.000617</td>\n",
       "    </tr>\n",
       "    <tr>\n",
       "      <th>5</th>\n",
       "      <td>1.0</td>\n",
       "      <td>0.029738</td>\n",
       "      <td>0.035735</td>\n",
       "      <td>0.035507</td>\n",
       "      <td>0.001063</td>\n",
       "    </tr>\n",
       "  </tbody>\n",
       "</table>\n",
       "</div>"
      ],
      "text/plain": [
       "   const    Market     Value      Size  MarketValue\n",
       "1    1.0  0.001535 -0.004323 -0.030943    -0.000007\n",
       "2    1.0  0.056173  0.057936  0.078705     0.003254\n",
       "3    1.0  0.018519  0.018075  0.031858     0.000335\n",
       "4    1.0 -0.025634 -0.024067 -0.019319     0.000617\n",
       "5    1.0  0.029738  0.035735  0.035507     0.001063"
      ]
     },
     "execution_count": 14,
     "metadata": {},
     "output_type": "execute_result"
    }
   ],
   "source": [
    "# Preliminary data preparation\n",
    "\n",
    "# Create a DF soleley containing the model's independent variables\n",
    "ivar = df_2[[\"Market\", \"Value\", \"Size\", \"MarketValue\"]]\n",
    "# Add a column containing constants to the newly created DF\n",
    "ivarc = smt.add_constant(data = ivar, prepend = True)\n",
    "# Verify if the DF was created correctly\n",
    "ivarc.head()"
   ]
  },
  {
   "cell_type": "markdown",
   "id": "fe57f0d5-f7c4-423f-9d65-1548bc5aaaaf",
   "metadata": {},
   "source": [
    "### <span style=\"color:blue\"> **1. Breusch-Pagan Test**</span>\n",
    "$$ \\textbf{Model} $$\n",
    "$$ \\hat{u_{i}}^2 = \\hat{\\gamma}_{0} + \\hat{\\gamma}_{1}Market_{i} + \\hat{\\gamma}_{2}Value_{i} + \\hat{\\gamma}_{3}Size_{i} + {error}_{i} $$\n",
    "\\\n",
    "$$ \\textbf{Hypothesis} $$\n",
    "$$ {H}_{0} : {\\gamma}_{1} = {\\gamma}_{2} = {\\gamma}_{3} = 0  $$"
   ]
  },
  {
   "cell_type": "code",
   "execution_count": 15,
   "id": "dd870fa8-2ee6-4543-9907-3aa8110f9eb4",
   "metadata": {},
   "outputs": [
    {
     "name": "stdout",
     "output_type": "stream",
     "text": [
      "Breush-Pagan F-Stat: 9.87214950078681\n"
     ]
    }
   ],
   "source": [
    "# Perform the heteroskedasticity test\n",
    "bptest = smd.het_breuschpagan(resid = model_int_2.resid, exog_het = ivarc)\n",
    "\n",
    "# Save the test's F-stat as a variable\n",
    "f_stat = bptest[2]\n",
    "\n",
    "# Print the test's estimated F-stat\n",
    "print(f\"Breush-Pagan F-Stat: {f_stat}\")"
   ]
  },
  {
   "cell_type": "markdown",
   "id": "dc2f7ee1-dac0-48b6-82c0-45761e4b9d4d",
   "metadata": {},
   "source": [
    "> The Breusch-Pagan test's estimated F statistic is about 9.87. Given the regression's 513 degrees of freedom and the three restrictions suggested by the null hypothesis, aussuming a 1% significance level, 3.78 can be used as a critical value for this test. Since 9.87 is larger than 3.78, we can reject the null hypothesis at the 1% significance level. Therefore, based on the Breusch-Pagan test, the variance of the population error term differs depending on the values of the explanatory variables, thus rendering our econometric model heteroskedastic."
   ]
  },
  {
   "cell_type": "markdown",
   "id": "69ccda16-3f6a-4ec3-80d4-c008d4aa62dd",
   "metadata": {},
   "source": [
    "### <span style=\"color:blue\"> **2. White Test**</span>\n",
    "$$ \\textbf{Model} $$\n",
    "$$ \\hat{u_{i}}^2 = \\hat{\\gamma}_{0} + \\hat{\\gamma}_{1}Market_{i} + \\hat{\\gamma}_{2}Value_{i} + \\hat{\\gamma}_{3}Size_{i} + \\hat{\\gamma}_{4}Market_{i}^2 + \\hat{\\gamma}_{5}Value_{i}^2 + \\hat{\\gamma}_{6}Size_{i}^2 + \\hat{\\gamma}_{7}(Market_{i}*Size_{i}) + \\hat{\\gamma}_{8}(Market_{i}*Value_{i}) + \\hat{\\gamma}_{9}(Size_{i}*Value_{i}) + {error}_{i} $$\n",
    "\\\n",
    "$$ \\textbf{Hypothesis} $$\n",
    "$$ {H}_{0} : {\\gamma}_{1} = {\\gamma}_{2} = ... = {\\gamma}_{9} = 0  $$"
   ]
  },
  {
   "cell_type": "code",
   "execution_count": 16,
   "id": "1c0e6ac6-a422-4543-bfb8-684d2ceb8e8c",
   "metadata": {},
   "outputs": [
    {
     "name": "stdout",
     "output_type": "stream",
     "text": [
      "White F-Stat: 10.331989586610952\n"
     ]
    }
   ],
   "source": [
    "# Perform the heteroskedasticity test\n",
    "wtest = smd.het_white(resid = model_int_2.resid, exog = ivarc)\n",
    "\n",
    "# Save the test's F-stat as a variable\n",
    "f_stat_w = wtest[2]\n",
    "\n",
    "# Print the test's estimated F-stat\n",
    "print(f\"White F-Stat: {f_stat_w}\")"
   ]
  },
  {
   "cell_type": "markdown",
   "id": "805744cc-50b9-4d53-8caf-a9f4d947fa9b",
   "metadata": {},
   "source": [
    "> The White test's estimated F statistic is about 10.33. Given the regression's 513 degrees of freedom and the 9 restrictions suggested by the null hypothesis, aussuming a 1% significance level, 2.41 can be used as a critical value for this test. Since 10.33 is larger than 2.41, we can reject the null hypothesis at the 1% significance level. Therefore, based on the White test, the variance of the population error term differs depending on the values of the explanatory variables, thus rendering our econometric model heteroskedastic."
   ]
  },
  {
   "cell_type": "markdown",
   "id": "51129552-272d-4329-9e89-c03ede57d957",
   "metadata": {},
   "source": [
    "## <span style=\"color:blue\"> **Conclusion**</span>\n",
    "Since both the Breusch-Pagan and the White heteroskedasticity tests suggest that our model is heteroskedastic at the 1% significance level, we can conclude that the theoretical model in fact contains heteriskedasticity."
   ]
  },
  {
   "cell_type": "markdown",
   "id": "811cdf47",
   "metadata": {},
   "source": []
  },
  {
   "cell_type": "markdown",
   "id": "7446f3e0",
   "metadata": {},
   "source": []
  }
 ],
 "metadata": {
  "kernelspec": {
   "display_name": "Python 3.8.5 ('base')",
   "language": "python",
   "name": "python3"
  },
  "language_info": {
   "codemirror_mode": {
    "name": "ipython",
    "version": 3
   },
   "file_extension": ".py",
   "mimetype": "text/x-python",
   "name": "python",
   "nbconvert_exporter": "python",
   "pygments_lexer": "ipython3",
   "version": "3.8.5"
  },
  "vscode": {
   "interpreter": {
    "hash": "40d3a090f54c6569ab1632332b64b2c03c39dcf918b08424e98f38b5ae0af88f"
   }
  }
 },
 "nbformat": 4,
 "nbformat_minor": 5
}
